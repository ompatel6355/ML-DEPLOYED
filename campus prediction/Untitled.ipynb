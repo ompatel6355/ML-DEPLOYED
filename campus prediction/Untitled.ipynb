{
 "cells": [
  {
   "cell_type": "code",
   "execution_count": 3,
   "metadata": {},
   "outputs": [],
   "source": [
    "import pandas as pd"
   ]
  },
  {
   "cell_type": "code",
   "execution_count": 4,
   "metadata": {},
   "outputs": [],
   "source": [
    "data = pd.read_csv(r'D:\\coding\\ML\\Machine learning\\campus prediction\\Placement_Data_Full_Class.csv')"
   ]
  },
  {
   "cell_type": "code",
   "execution_count": 5,
   "metadata": {},
   "outputs": [
    {
     "output_type": "execute_result",
     "data": {
      "text/plain": [
       "   sl_no gender  ssc_p    ssc_b  hsc_p    hsc_b     hsc_s  degree_p  \\\n",
       "0      1      M  67.00   Others  91.00   Others  Commerce     58.00   \n",
       "1      2      M  79.33  Central  78.33   Others   Science     77.48   \n",
       "2      3      M  65.00  Central  68.00  Central      Arts     64.00   \n",
       "3      4      M  56.00  Central  52.00  Central   Science     52.00   \n",
       "4      5      M  85.80  Central  73.60  Central  Commerce     73.30   \n",
       "\n",
       "    degree_t workex  etest_p specialisation  mba_p      status    salary  \n",
       "0   Sci&Tech     No     55.0         Mkt&HR  58.80      Placed  270000.0  \n",
       "1   Sci&Tech    Yes     86.5        Mkt&Fin  66.28      Placed  200000.0  \n",
       "2  Comm&Mgmt     No     75.0        Mkt&Fin  57.80      Placed  250000.0  \n",
       "3   Sci&Tech     No     66.0         Mkt&HR  59.43  Not Placed       NaN  \n",
       "4  Comm&Mgmt     No     96.8        Mkt&Fin  55.50      Placed  425000.0  "
      ],
      "text/html": "<div>\n<style scoped>\n    .dataframe tbody tr th:only-of-type {\n        vertical-align: middle;\n    }\n\n    .dataframe tbody tr th {\n        vertical-align: top;\n    }\n\n    .dataframe thead th {\n        text-align: right;\n    }\n</style>\n<table border=\"1\" class=\"dataframe\">\n  <thead>\n    <tr style=\"text-align: right;\">\n      <th></th>\n      <th>sl_no</th>\n      <th>gender</th>\n      <th>ssc_p</th>\n      <th>ssc_b</th>\n      <th>hsc_p</th>\n      <th>hsc_b</th>\n      <th>hsc_s</th>\n      <th>degree_p</th>\n      <th>degree_t</th>\n      <th>workex</th>\n      <th>etest_p</th>\n      <th>specialisation</th>\n      <th>mba_p</th>\n      <th>status</th>\n      <th>salary</th>\n    </tr>\n  </thead>\n  <tbody>\n    <tr>\n      <th>0</th>\n      <td>1</td>\n      <td>M</td>\n      <td>67.00</td>\n      <td>Others</td>\n      <td>91.00</td>\n      <td>Others</td>\n      <td>Commerce</td>\n      <td>58.00</td>\n      <td>Sci&amp;Tech</td>\n      <td>No</td>\n      <td>55.0</td>\n      <td>Mkt&amp;HR</td>\n      <td>58.80</td>\n      <td>Placed</td>\n      <td>270000.0</td>\n    </tr>\n    <tr>\n      <th>1</th>\n      <td>2</td>\n      <td>M</td>\n      <td>79.33</td>\n      <td>Central</td>\n      <td>78.33</td>\n      <td>Others</td>\n      <td>Science</td>\n      <td>77.48</td>\n      <td>Sci&amp;Tech</td>\n      <td>Yes</td>\n      <td>86.5</td>\n      <td>Mkt&amp;Fin</td>\n      <td>66.28</td>\n      <td>Placed</td>\n      <td>200000.0</td>\n    </tr>\n    <tr>\n      <th>2</th>\n      <td>3</td>\n      <td>M</td>\n      <td>65.00</td>\n      <td>Central</td>\n      <td>68.00</td>\n      <td>Central</td>\n      <td>Arts</td>\n      <td>64.00</td>\n      <td>Comm&amp;Mgmt</td>\n      <td>No</td>\n      <td>75.0</td>\n      <td>Mkt&amp;Fin</td>\n      <td>57.80</td>\n      <td>Placed</td>\n      <td>250000.0</td>\n    </tr>\n    <tr>\n      <th>3</th>\n      <td>4</td>\n      <td>M</td>\n      <td>56.00</td>\n      <td>Central</td>\n      <td>52.00</td>\n      <td>Central</td>\n      <td>Science</td>\n      <td>52.00</td>\n      <td>Sci&amp;Tech</td>\n      <td>No</td>\n      <td>66.0</td>\n      <td>Mkt&amp;HR</td>\n      <td>59.43</td>\n      <td>Not Placed</td>\n      <td>NaN</td>\n    </tr>\n    <tr>\n      <th>4</th>\n      <td>5</td>\n      <td>M</td>\n      <td>85.80</td>\n      <td>Central</td>\n      <td>73.60</td>\n      <td>Central</td>\n      <td>Commerce</td>\n      <td>73.30</td>\n      <td>Comm&amp;Mgmt</td>\n      <td>No</td>\n      <td>96.8</td>\n      <td>Mkt&amp;Fin</td>\n      <td>55.50</td>\n      <td>Placed</td>\n      <td>425000.0</td>\n    </tr>\n  </tbody>\n</table>\n</div>"
     },
     "metadata": {},
     "execution_count": 5
    }
   ],
   "source": [
    "data.head()"
   ]
  },
  {
   "cell_type": "code",
   "execution_count": 6,
   "metadata": {},
   "outputs": [
    {
     "output_type": "execute_result",
     "data": {
      "text/plain": [
       "            sl_no       ssc_p       hsc_p    degree_p     etest_p       mba_p  \\\n",
       "count  215.000000  215.000000  215.000000  215.000000  215.000000  215.000000   \n",
       "mean   108.000000   67.303395   66.333163   66.370186   72.100558   62.278186   \n",
       "std     62.209324   10.827205   10.897509    7.358743   13.275956    5.833385   \n",
       "min      1.000000   40.890000   37.000000   50.000000   50.000000   51.210000   \n",
       "25%     54.500000   60.600000   60.900000   61.000000   60.000000   57.945000   \n",
       "50%    108.000000   67.000000   65.000000   66.000000   71.000000   62.000000   \n",
       "75%    161.500000   75.700000   73.000000   72.000000   83.500000   66.255000   \n",
       "max    215.000000   89.400000   97.700000   91.000000   98.000000   77.890000   \n",
       "\n",
       "              salary  \n",
       "count     148.000000  \n",
       "mean   288655.405405  \n",
       "std     93457.452420  \n",
       "min    200000.000000  \n",
       "25%    240000.000000  \n",
       "50%    265000.000000  \n",
       "75%    300000.000000  \n",
       "max    940000.000000  "
      ],
      "text/html": "<div>\n<style scoped>\n    .dataframe tbody tr th:only-of-type {\n        vertical-align: middle;\n    }\n\n    .dataframe tbody tr th {\n        vertical-align: top;\n    }\n\n    .dataframe thead th {\n        text-align: right;\n    }\n</style>\n<table border=\"1\" class=\"dataframe\">\n  <thead>\n    <tr style=\"text-align: right;\">\n      <th></th>\n      <th>sl_no</th>\n      <th>ssc_p</th>\n      <th>hsc_p</th>\n      <th>degree_p</th>\n      <th>etest_p</th>\n      <th>mba_p</th>\n      <th>salary</th>\n    </tr>\n  </thead>\n  <tbody>\n    <tr>\n      <th>count</th>\n      <td>215.000000</td>\n      <td>215.000000</td>\n      <td>215.000000</td>\n      <td>215.000000</td>\n      <td>215.000000</td>\n      <td>215.000000</td>\n      <td>148.000000</td>\n    </tr>\n    <tr>\n      <th>mean</th>\n      <td>108.000000</td>\n      <td>67.303395</td>\n      <td>66.333163</td>\n      <td>66.370186</td>\n      <td>72.100558</td>\n      <td>62.278186</td>\n      <td>288655.405405</td>\n    </tr>\n    <tr>\n      <th>std</th>\n      <td>62.209324</td>\n      <td>10.827205</td>\n      <td>10.897509</td>\n      <td>7.358743</td>\n      <td>13.275956</td>\n      <td>5.833385</td>\n      <td>93457.452420</td>\n    </tr>\n    <tr>\n      <th>min</th>\n      <td>1.000000</td>\n      <td>40.890000</td>\n      <td>37.000000</td>\n      <td>50.000000</td>\n      <td>50.000000</td>\n      <td>51.210000</td>\n      <td>200000.000000</td>\n    </tr>\n    <tr>\n      <th>25%</th>\n      <td>54.500000</td>\n      <td>60.600000</td>\n      <td>60.900000</td>\n      <td>61.000000</td>\n      <td>60.000000</td>\n      <td>57.945000</td>\n      <td>240000.000000</td>\n    </tr>\n    <tr>\n      <th>50%</th>\n      <td>108.000000</td>\n      <td>67.000000</td>\n      <td>65.000000</td>\n      <td>66.000000</td>\n      <td>71.000000</td>\n      <td>62.000000</td>\n      <td>265000.000000</td>\n    </tr>\n    <tr>\n      <th>75%</th>\n      <td>161.500000</td>\n      <td>75.700000</td>\n      <td>73.000000</td>\n      <td>72.000000</td>\n      <td>83.500000</td>\n      <td>66.255000</td>\n      <td>300000.000000</td>\n    </tr>\n    <tr>\n      <th>max</th>\n      <td>215.000000</td>\n      <td>89.400000</td>\n      <td>97.700000</td>\n      <td>91.000000</td>\n      <td>98.000000</td>\n      <td>77.890000</td>\n      <td>940000.000000</td>\n    </tr>\n  </tbody>\n</table>\n</div>"
     },
     "metadata": {},
     "execution_count": 6
    }
   ],
   "source": [
    "data.describe()"
   ]
  },
  {
   "cell_type": "code",
   "execution_count": 7,
   "metadata": {},
   "outputs": [],
   "source": [
    "data = pd.get_dummies(data, drop_first=True)"
   ]
  },
  {
   "cell_type": "code",
   "execution_count": 8,
   "metadata": {},
   "outputs": [],
   "source": [
    "data = data.iloc[:, 1:]"
   ]
  },
  {
   "cell_type": "code",
   "execution_count": 9,
   "metadata": {
    "scrolled": true
   },
   "outputs": [
    {
     "output_type": "execute_result",
     "data": {
      "text/plain": [
       "   ssc_p  hsc_p  degree_p  etest_p  mba_p    salary  gender_M  ssc_b_Others  \\\n",
       "0  67.00  91.00     58.00     55.0  58.80  270000.0         1             1   \n",
       "1  79.33  78.33     77.48     86.5  66.28  200000.0         1             0   \n",
       "2  65.00  68.00     64.00     75.0  57.80  250000.0         1             0   \n",
       "3  56.00  52.00     52.00     66.0  59.43       NaN         1             0   \n",
       "4  85.80  73.60     73.30     96.8  55.50  425000.0         1             0   \n",
       "\n",
       "   hsc_b_Others  hsc_s_Commerce  hsc_s_Science  degree_t_Others  \\\n",
       "0             1               1              0                0   \n",
       "1             1               0              1                0   \n",
       "2             0               0              0                0   \n",
       "3             0               0              1                0   \n",
       "4             0               1              0                0   \n",
       "\n",
       "   degree_t_Sci&Tech  workex_Yes  specialisation_Mkt&HR  status_Placed  \n",
       "0                  1           0                      1              1  \n",
       "1                  1           1                      0              1  \n",
       "2                  0           0                      0              1  \n",
       "3                  1           0                      1              0  \n",
       "4                  0           0                      0              1  "
      ],
      "text/html": "<div>\n<style scoped>\n    .dataframe tbody tr th:only-of-type {\n        vertical-align: middle;\n    }\n\n    .dataframe tbody tr th {\n        vertical-align: top;\n    }\n\n    .dataframe thead th {\n        text-align: right;\n    }\n</style>\n<table border=\"1\" class=\"dataframe\">\n  <thead>\n    <tr style=\"text-align: right;\">\n      <th></th>\n      <th>ssc_p</th>\n      <th>hsc_p</th>\n      <th>degree_p</th>\n      <th>etest_p</th>\n      <th>mba_p</th>\n      <th>salary</th>\n      <th>gender_M</th>\n      <th>ssc_b_Others</th>\n      <th>hsc_b_Others</th>\n      <th>hsc_s_Commerce</th>\n      <th>hsc_s_Science</th>\n      <th>degree_t_Others</th>\n      <th>degree_t_Sci&amp;Tech</th>\n      <th>workex_Yes</th>\n      <th>specialisation_Mkt&amp;HR</th>\n      <th>status_Placed</th>\n    </tr>\n  </thead>\n  <tbody>\n    <tr>\n      <th>0</th>\n      <td>67.00</td>\n      <td>91.00</td>\n      <td>58.00</td>\n      <td>55.0</td>\n      <td>58.80</td>\n      <td>270000.0</td>\n      <td>1</td>\n      <td>1</td>\n      <td>1</td>\n      <td>1</td>\n      <td>0</td>\n      <td>0</td>\n      <td>1</td>\n      <td>0</td>\n      <td>1</td>\n      <td>1</td>\n    </tr>\n    <tr>\n      <th>1</th>\n      <td>79.33</td>\n      <td>78.33</td>\n      <td>77.48</td>\n      <td>86.5</td>\n      <td>66.28</td>\n      <td>200000.0</td>\n      <td>1</td>\n      <td>0</td>\n      <td>1</td>\n      <td>0</td>\n      <td>1</td>\n      <td>0</td>\n      <td>1</td>\n      <td>1</td>\n      <td>0</td>\n      <td>1</td>\n    </tr>\n    <tr>\n      <th>2</th>\n      <td>65.00</td>\n      <td>68.00</td>\n      <td>64.00</td>\n      <td>75.0</td>\n      <td>57.80</td>\n      <td>250000.0</td>\n      <td>1</td>\n      <td>0</td>\n      <td>0</td>\n      <td>0</td>\n      <td>0</td>\n      <td>0</td>\n      <td>0</td>\n      <td>0</td>\n      <td>0</td>\n      <td>1</td>\n    </tr>\n    <tr>\n      <th>3</th>\n      <td>56.00</td>\n      <td>52.00</td>\n      <td>52.00</td>\n      <td>66.0</td>\n      <td>59.43</td>\n      <td>NaN</td>\n      <td>1</td>\n      <td>0</td>\n      <td>0</td>\n      <td>0</td>\n      <td>1</td>\n      <td>0</td>\n      <td>1</td>\n      <td>0</td>\n      <td>1</td>\n      <td>0</td>\n    </tr>\n    <tr>\n      <th>4</th>\n      <td>85.80</td>\n      <td>73.60</td>\n      <td>73.30</td>\n      <td>96.8</td>\n      <td>55.50</td>\n      <td>425000.0</td>\n      <td>1</td>\n      <td>0</td>\n      <td>0</td>\n      <td>1</td>\n      <td>0</td>\n      <td>0</td>\n      <td>0</td>\n      <td>0</td>\n      <td>0</td>\n      <td>1</td>\n    </tr>\n  </tbody>\n</table>\n</div>"
     },
     "metadata": {},
     "execution_count": 9
    }
   ],
   "source": [
    "data.head()"
   ]
  },
  {
   "cell_type": "code",
   "execution_count": 10,
   "metadata": {},
   "outputs": [],
   "source": [
    "data = data.drop(['salary'], axis =1)"
   ]
  },
  {
   "cell_type": "code",
   "execution_count": 11,
   "metadata": {},
   "outputs": [],
   "source": [
    "# import seaborn as sns\n",
    "# sns.heatmap(data.corr(), vmin=-1, vmax=1, linewidths=.5)"
   ]
  },
  {
   "cell_type": "code",
   "execution_count": 12,
   "metadata": {},
   "outputs": [
    {
     "output_type": "execute_result",
     "data": {
      "text/plain": [
       "status_Placed            1.000000\n",
       "ssc_p                    0.607889\n",
       "hsc_p                    0.491228\n",
       "degree_p                 0.479861\n",
       "workex_Yes               0.276060\n",
       "etest_p                  0.127639\n",
       "gender_M                 0.090670\n",
       "mba_p                    0.076922\n",
       "ssc_b_Others             0.037297\n",
       "hsc_s_Commerce           0.024414\n",
       "hsc_b_Others             0.016945\n",
       "degree_t_Sci&Tech        0.008688\n",
       "hsc_s_Science            0.007279\n",
       "degree_t_Others         -0.117232\n",
       "specialisation_Mkt&HR   -0.250655\n",
       "dtype: float64"
      ]
     },
     "metadata": {},
     "execution_count": 12
    }
   ],
   "source": [
    "data.corrwith(data['status_Placed']).sort_values(ascending=False)"
   ]
  },
  {
   "cell_type": "code",
   "execution_count": 13,
   "metadata": {},
   "outputs": [],
   "source": [
    "y = data['status_Placed']"
   ]
  },
  {
   "cell_type": "code",
   "execution_count": 14,
   "metadata": {},
   "outputs": [
    {
     "output_type": "execute_result",
     "data": {
      "text/plain": [
       "0    1\n",
       "1    1\n",
       "2    1\n",
       "3    0\n",
       "4    1\n",
       "Name: status_Placed, dtype: uint8"
      ]
     },
     "metadata": {},
     "execution_count": 14
    }
   ],
   "source": [
    "y.head()"
   ]
  },
  {
   "cell_type": "code",
   "execution_count": 15,
   "metadata": {},
   "outputs": [],
   "source": [
    "x = data.drop('status_Placed',axis =1)"
   ]
  },
  {
   "cell_type": "code",
   "execution_count": 16,
   "metadata": {},
   "outputs": [
    {
     "output_type": "execute_result",
     "data": {
      "text/plain": [
       "   ssc_p  hsc_p  degree_p  etest_p  mba_p  gender_M  ssc_b_Others  \\\n",
       "0  67.00  91.00     58.00     55.0  58.80         1             1   \n",
       "1  79.33  78.33     77.48     86.5  66.28         1             0   \n",
       "2  65.00  68.00     64.00     75.0  57.80         1             0   \n",
       "3  56.00  52.00     52.00     66.0  59.43         1             0   \n",
       "4  85.80  73.60     73.30     96.8  55.50         1             0   \n",
       "\n",
       "   hsc_b_Others  hsc_s_Commerce  hsc_s_Science  degree_t_Others  \\\n",
       "0             1               1              0                0   \n",
       "1             1               0              1                0   \n",
       "2             0               0              0                0   \n",
       "3             0               0              1                0   \n",
       "4             0               1              0                0   \n",
       "\n",
       "   degree_t_Sci&Tech  workex_Yes  specialisation_Mkt&HR  \n",
       "0                  1           0                      1  \n",
       "1                  1           1                      0  \n",
       "2                  0           0                      0  \n",
       "3                  1           0                      1  \n",
       "4                  0           0                      0  "
      ],
      "text/html": "<div>\n<style scoped>\n    .dataframe tbody tr th:only-of-type {\n        vertical-align: middle;\n    }\n\n    .dataframe tbody tr th {\n        vertical-align: top;\n    }\n\n    .dataframe thead th {\n        text-align: right;\n    }\n</style>\n<table border=\"1\" class=\"dataframe\">\n  <thead>\n    <tr style=\"text-align: right;\">\n      <th></th>\n      <th>ssc_p</th>\n      <th>hsc_p</th>\n      <th>degree_p</th>\n      <th>etest_p</th>\n      <th>mba_p</th>\n      <th>gender_M</th>\n      <th>ssc_b_Others</th>\n      <th>hsc_b_Others</th>\n      <th>hsc_s_Commerce</th>\n      <th>hsc_s_Science</th>\n      <th>degree_t_Others</th>\n      <th>degree_t_Sci&amp;Tech</th>\n      <th>workex_Yes</th>\n      <th>specialisation_Mkt&amp;HR</th>\n    </tr>\n  </thead>\n  <tbody>\n    <tr>\n      <th>0</th>\n      <td>67.00</td>\n      <td>91.00</td>\n      <td>58.00</td>\n      <td>55.0</td>\n      <td>58.80</td>\n      <td>1</td>\n      <td>1</td>\n      <td>1</td>\n      <td>1</td>\n      <td>0</td>\n      <td>0</td>\n      <td>1</td>\n      <td>0</td>\n      <td>1</td>\n    </tr>\n    <tr>\n      <th>1</th>\n      <td>79.33</td>\n      <td>78.33</td>\n      <td>77.48</td>\n      <td>86.5</td>\n      <td>66.28</td>\n      <td>1</td>\n      <td>0</td>\n      <td>1</td>\n      <td>0</td>\n      <td>1</td>\n      <td>0</td>\n      <td>1</td>\n      <td>1</td>\n      <td>0</td>\n    </tr>\n    <tr>\n      <th>2</th>\n      <td>65.00</td>\n      <td>68.00</td>\n      <td>64.00</td>\n      <td>75.0</td>\n      <td>57.80</td>\n      <td>1</td>\n      <td>0</td>\n      <td>0</td>\n      <td>0</td>\n      <td>0</td>\n      <td>0</td>\n      <td>0</td>\n      <td>0</td>\n      <td>0</td>\n    </tr>\n    <tr>\n      <th>3</th>\n      <td>56.00</td>\n      <td>52.00</td>\n      <td>52.00</td>\n      <td>66.0</td>\n      <td>59.43</td>\n      <td>1</td>\n      <td>0</td>\n      <td>0</td>\n      <td>0</td>\n      <td>1</td>\n      <td>0</td>\n      <td>1</td>\n      <td>0</td>\n      <td>1</td>\n    </tr>\n    <tr>\n      <th>4</th>\n      <td>85.80</td>\n      <td>73.60</td>\n      <td>73.30</td>\n      <td>96.8</td>\n      <td>55.50</td>\n      <td>1</td>\n      <td>0</td>\n      <td>0</td>\n      <td>1</td>\n      <td>0</td>\n      <td>0</td>\n      <td>0</td>\n      <td>0</td>\n      <td>0</td>\n    </tr>\n  </tbody>\n</table>\n</div>"
     },
     "metadata": {},
     "execution_count": 16
    }
   ],
   "source": [
    "x.head()"
   ]
  },
  {
   "cell_type": "code",
   "execution_count": 17,
   "metadata": {},
   "outputs": [],
   "source": [
    "import matplotlib.pyplot as plt\n",
    "%matplotlib inline"
   ]
  },
  {
   "cell_type": "code",
   "execution_count": 18,
   "metadata": {},
   "outputs": [],
   "source": [
    "# x1 = np.arange(len(labels))  # the label locations\n",
    "# width = 0.35\n",
    "# plt.bar('gender', width, label= 'gender')"
   ]
  },
  {
   "cell_type": "code",
   "execution_count": 19,
   "metadata": {},
   "outputs": [],
   "source": [
    "from sklearn.model_selection import train_test_split\n",
    "x_train, x_test, y_train, y_test = train_test_split(x, y, test_size=0.2, random_state=3)"
   ]
  },
  {
   "cell_type": "code",
   "execution_count": 20,
   "metadata": {},
   "outputs": [
    {
     "output_type": "execute_result",
     "data": {
      "text/plain": [
       "     ssc_p  hsc_p  degree_p  etest_p  mba_p  gender_M  ssc_b_Others  \\\n",
       "58    74.0  62.00      68.0     74.0  57.99         1             0   \n",
       "199   69.0  65.00      57.0     73.0  55.80         1             1   \n",
       "105   59.0  64.00      58.0     85.0  55.30         1             0   \n",
       "64    80.0  73.00      75.0     61.0  58.78         1             1   \n",
       "41    74.0  63.16      65.0     65.0  69.76         0             1   \n",
       "\n",
       "     hsc_b_Others  hsc_s_Commerce  hsc_s_Science  degree_t_Others  \\\n",
       "58              1               0              1                0   \n",
       "199             1               1              0                0   \n",
       "105             1               0              1                0   \n",
       "64              1               1              0                0   \n",
       "41              1               1              0                0   \n",
       "\n",
       "     degree_t_Sci&Tech  workex_Yes  specialisation_Mkt&HR  \n",
       "58                   0           0                      0  \n",
       "199                  0           0                      1  \n",
       "105                  1           0                      1  \n",
       "64                   0           0                      0  \n",
       "41                   0           1                      1  "
      ],
      "text/html": "<div>\n<style scoped>\n    .dataframe tbody tr th:only-of-type {\n        vertical-align: middle;\n    }\n\n    .dataframe tbody tr th {\n        vertical-align: top;\n    }\n\n    .dataframe thead th {\n        text-align: right;\n    }\n</style>\n<table border=\"1\" class=\"dataframe\">\n  <thead>\n    <tr style=\"text-align: right;\">\n      <th></th>\n      <th>ssc_p</th>\n      <th>hsc_p</th>\n      <th>degree_p</th>\n      <th>etest_p</th>\n      <th>mba_p</th>\n      <th>gender_M</th>\n      <th>ssc_b_Others</th>\n      <th>hsc_b_Others</th>\n      <th>hsc_s_Commerce</th>\n      <th>hsc_s_Science</th>\n      <th>degree_t_Others</th>\n      <th>degree_t_Sci&amp;Tech</th>\n      <th>workex_Yes</th>\n      <th>specialisation_Mkt&amp;HR</th>\n    </tr>\n  </thead>\n  <tbody>\n    <tr>\n      <th>58</th>\n      <td>74.0</td>\n      <td>62.00</td>\n      <td>68.0</td>\n      <td>74.0</td>\n      <td>57.99</td>\n      <td>1</td>\n      <td>0</td>\n      <td>1</td>\n      <td>0</td>\n      <td>1</td>\n      <td>0</td>\n      <td>0</td>\n      <td>0</td>\n      <td>0</td>\n    </tr>\n    <tr>\n      <th>199</th>\n      <td>69.0</td>\n      <td>65.00</td>\n      <td>57.0</td>\n      <td>73.0</td>\n      <td>55.80</td>\n      <td>1</td>\n      <td>1</td>\n      <td>1</td>\n      <td>1</td>\n      <td>0</td>\n      <td>0</td>\n      <td>0</td>\n      <td>0</td>\n      <td>1</td>\n    </tr>\n    <tr>\n      <th>105</th>\n      <td>59.0</td>\n      <td>64.00</td>\n      <td>58.0</td>\n      <td>85.0</td>\n      <td>55.30</td>\n      <td>1</td>\n      <td>0</td>\n      <td>1</td>\n      <td>0</td>\n      <td>1</td>\n      <td>0</td>\n      <td>1</td>\n      <td>0</td>\n      <td>1</td>\n    </tr>\n    <tr>\n      <th>64</th>\n      <td>80.0</td>\n      <td>73.00</td>\n      <td>75.0</td>\n      <td>61.0</td>\n      <td>58.78</td>\n      <td>1</td>\n      <td>1</td>\n      <td>1</td>\n      <td>1</td>\n      <td>0</td>\n      <td>0</td>\n      <td>0</td>\n      <td>0</td>\n      <td>0</td>\n    </tr>\n    <tr>\n      <th>41</th>\n      <td>74.0</td>\n      <td>63.16</td>\n      <td>65.0</td>\n      <td>65.0</td>\n      <td>69.76</td>\n      <td>0</td>\n      <td>1</td>\n      <td>1</td>\n      <td>1</td>\n      <td>0</td>\n      <td>0</td>\n      <td>0</td>\n      <td>1</td>\n      <td>1</td>\n    </tr>\n  </tbody>\n</table>\n</div>"
     },
     "metadata": {},
     "execution_count": 20
    }
   ],
   "source": [
    "x_train.head()"
   ]
  },
  {
   "cell_type": "code",
   "execution_count": 21,
   "metadata": {},
   "outputs": [
    {
     "output_type": "execute_result",
     "data": {
      "text/plain": [
       "     ssc_p  hsc_p  degree_p  etest_p  mba_p  gender_M  ssc_b_Others  \\\n",
       "207  83.33   78.0     61.00    88.56  71.55         1             0   \n",
       "25   52.58   54.6     50.20    76.00  65.33         0             1   \n",
       "164  67.16   72.5     63.35    53.04  65.52         0             0   \n",
       "109  52.00   63.0     65.00    86.00  56.09         1             0   \n",
       "83   84.00   79.0     68.00    84.00  66.69         1             1   \n",
       "\n",
       "     hsc_b_Others  hsc_s_Commerce  hsc_s_Science  degree_t_Others  \\\n",
       "207             1               1              0                0   \n",
       "25              0               1              0                0   \n",
       "164             0               1              0                0   \n",
       "109             1               0              1                0   \n",
       "83              1               0              1                0   \n",
       "\n",
       "     degree_t_Sci&Tech  workex_Yes  specialisation_Mkt&HR  \n",
       "207                  0           1                      0  \n",
       "25                   0           1                      0  \n",
       "164                  0           0                      0  \n",
       "109                  1           1                      1  \n",
       "83                   1           1                      0  "
      ],
      "text/html": "<div>\n<style scoped>\n    .dataframe tbody tr th:only-of-type {\n        vertical-align: middle;\n    }\n\n    .dataframe tbody tr th {\n        vertical-align: top;\n    }\n\n    .dataframe thead th {\n        text-align: right;\n    }\n</style>\n<table border=\"1\" class=\"dataframe\">\n  <thead>\n    <tr style=\"text-align: right;\">\n      <th></th>\n      <th>ssc_p</th>\n      <th>hsc_p</th>\n      <th>degree_p</th>\n      <th>etest_p</th>\n      <th>mba_p</th>\n      <th>gender_M</th>\n      <th>ssc_b_Others</th>\n      <th>hsc_b_Others</th>\n      <th>hsc_s_Commerce</th>\n      <th>hsc_s_Science</th>\n      <th>degree_t_Others</th>\n      <th>degree_t_Sci&amp;Tech</th>\n      <th>workex_Yes</th>\n      <th>specialisation_Mkt&amp;HR</th>\n    </tr>\n  </thead>\n  <tbody>\n    <tr>\n      <th>207</th>\n      <td>83.33</td>\n      <td>78.0</td>\n      <td>61.00</td>\n      <td>88.56</td>\n      <td>71.55</td>\n      <td>1</td>\n      <td>0</td>\n      <td>1</td>\n      <td>1</td>\n      <td>0</td>\n      <td>0</td>\n      <td>0</td>\n      <td>1</td>\n      <td>0</td>\n    </tr>\n    <tr>\n      <th>25</th>\n      <td>52.58</td>\n      <td>54.6</td>\n      <td>50.20</td>\n      <td>76.00</td>\n      <td>65.33</td>\n      <td>0</td>\n      <td>1</td>\n      <td>0</td>\n      <td>1</td>\n      <td>0</td>\n      <td>0</td>\n      <td>0</td>\n      <td>1</td>\n      <td>0</td>\n    </tr>\n    <tr>\n      <th>164</th>\n      <td>67.16</td>\n      <td>72.5</td>\n      <td>63.35</td>\n      <td>53.04</td>\n      <td>65.52</td>\n      <td>0</td>\n      <td>0</td>\n      <td>0</td>\n      <td>1</td>\n      <td>0</td>\n      <td>0</td>\n      <td>0</td>\n      <td>0</td>\n      <td>0</td>\n    </tr>\n    <tr>\n      <th>109</th>\n      <td>52.00</td>\n      <td>63.0</td>\n      <td>65.00</td>\n      <td>86.00</td>\n      <td>56.09</td>\n      <td>1</td>\n      <td>0</td>\n      <td>1</td>\n      <td>0</td>\n      <td>1</td>\n      <td>0</td>\n      <td>1</td>\n      <td>1</td>\n      <td>1</td>\n    </tr>\n    <tr>\n      <th>83</th>\n      <td>84.00</td>\n      <td>79.0</td>\n      <td>68.00</td>\n      <td>84.00</td>\n      <td>66.69</td>\n      <td>1</td>\n      <td>1</td>\n      <td>1</td>\n      <td>0</td>\n      <td>1</td>\n      <td>0</td>\n      <td>1</td>\n      <td>1</td>\n      <td>0</td>\n    </tr>\n  </tbody>\n</table>\n</div>"
     },
     "metadata": {},
     "execution_count": 21
    }
   ],
   "source": [
    "x_test.head()"
   ]
  },
  {
   "cell_type": "code",
   "execution_count": 22,
   "metadata": {},
   "outputs": [
    {
     "output_type": "execute_result",
     "data": {
      "text/plain": [
       "58     1\n",
       "199    1\n",
       "105    0\n",
       "64     1\n",
       "41     0\n",
       "Name: status_Placed, dtype: uint8"
      ]
     },
     "metadata": {},
     "execution_count": 22
    }
   ],
   "source": [
    "y_train.head()"
   ]
  },
  {
   "cell_type": "code",
   "execution_count": 23,
   "metadata": {},
   "outputs": [
    {
     "output_type": "execute_result",
     "data": {
      "text/plain": [
       "207    1\n",
       "25     0\n",
       "164    1\n",
       "109    0\n",
       "83     1\n",
       "Name: status_Placed, dtype: uint8"
      ]
     },
     "metadata": {},
     "execution_count": 23
    }
   ],
   "source": [
    "y_test.head()"
   ]
  },
  {
   "cell_type": "code",
   "execution_count": 24,
   "metadata": {},
   "outputs": [
    {
     "output_type": "execute_result",
     "data": {
      "text/plain": [
       "DecisionTreeClassifier()"
      ]
     },
     "metadata": {},
     "execution_count": 24
    }
   ],
   "source": [
    "from sklearn.tree import DecisionTreeClassifier\n",
    "model = DecisionTreeClassifier()\n",
    "model_fit= model.fit(x_train, y_train)\n",
    "model_fit"
   ]
  },
  {
   "cell_type": "code",
   "execution_count": 25,
   "metadata": {},
   "outputs": [],
   "source": [
    "model_predict= model.predict(x_test)"
   ]
  },
  {
   "cell_type": "code",
   "execution_count": 26,
   "metadata": {},
   "outputs": [],
   "source": [
    "from sklearn.metrics import accuracy_score\n",
    "Des_acc = accuracy_score(model_predict, y_test)"
   ]
  },
  {
   "cell_type": "code",
   "execution_count": 27,
   "metadata": {},
   "outputs": [
    {
     "output_type": "execute_result",
     "data": {
      "text/plain": [
       "RandomForestClassifier()"
      ]
     },
     "metadata": {},
     "execution_count": 27
    }
   ],
   "source": [
    "from sklearn.ensemble import RandomForestClassifier\n",
    "model1 = RandomForestClassifier()\n",
    "model1.fit(x_train, y_train)"
   ]
  },
  {
   "cell_type": "code",
   "execution_count": 28,
   "metadata": {},
   "outputs": [],
   "source": [
    "ran_predict = model1.predict(x_test)"
   ]
  },
  {
   "cell_type": "code",
   "execution_count": 29,
   "metadata": {},
   "outputs": [
    {
     "output_type": "execute_result",
     "data": {
      "text/plain": [
       "0.8837209302325582"
      ]
     },
     "metadata": {},
     "execution_count": 29
    }
   ],
   "source": [
    "accuracy_score(ran_predict, y_test)"
   ]
  },
  {
   "cell_type": "code",
   "execution_count": 30,
   "metadata": {},
   "outputs": [],
   "source": [
    "from sklearn.metrics import precision_score, confusion_matrix, f1_score, recall_score\n",
    "ran_precision = precision_score(y_test, ran_predict)"
   ]
  },
  {
   "cell_type": "code",
   "execution_count": 31,
   "metadata": {},
   "outputs": [],
   "source": [
    "ran_matrics = confusion_matrix(y_test, ran_predict)"
   ]
  },
  {
   "cell_type": "code",
   "execution_count": 32,
   "metadata": {},
   "outputs": [],
   "source": [
    "ran_f1 = f1_score(y_test, ran_predict)"
   ]
  },
  {
   "cell_type": "code",
   "execution_count": 33,
   "metadata": {},
   "outputs": [],
   "source": [
    "ran_recall = recall_score(y_test, ran_predict)"
   ]
  },
  {
   "cell_type": "code",
   "execution_count": 34,
   "metadata": {},
   "outputs": [],
   "source": [
    "des_precision = precision_score(y_test, ran_predict)\n",
    "des_matrics = confusion_matrix(y_test, ran_predict)\n",
    "des_f1 = f1_score(y_test, ran_predict)\n",
    "des_recall = recall_score(y_test, ran_predict)"
   ]
  },
  {
   "cell_type": "code",
   "execution_count": 35,
   "metadata": {},
   "outputs": [
    {
     "output_type": "stream",
     "name": "stdout",
     "text": [
      "Decision tree confusion matrics:,  [[11  3]\n [ 2 27]]\nDecision tree precision:  0.9\nDecision tree recall:  0.9310344827586207\nDecision tree f1_score:  0.9152542372881356\naccuracy: %.3f 0.813953488372093\n"
     ]
    }
   ],
   "source": [
    "print('Decision tree confusion matrics:, ', des_matrics)\n",
    "print('Decision tree precision: ', des_precision)\n",
    "print('Decision tree recall: ', des_recall)\n",
    "print('Decision tree f1_score: ', des_f1)\n",
    "print('accuracy: %.3f', Des_acc)"
   ]
  },
  {
   "cell_type": "code",
   "execution_count": 36,
   "metadata": {},
   "outputs": [],
   "source": [
    "from sklearn.model_selection import StratifiedShuffleSplit\n",
    "sss = StratifiedShuffleSplit(n_splits=10,test_size=0.2, train_size=0.8, random_state=5)"
   ]
  },
  {
   "cell_type": "code",
   "execution_count": 37,
   "metadata": {},
   "outputs": [
    {
     "output_type": "execute_result",
     "data": {
      "text/plain": [
       "10"
      ]
     },
     "metadata": {},
     "execution_count": 37
    }
   ],
   "source": [
    "sss.get_n_splits(x, y)"
   ]
  },
  {
   "cell_type": "code",
   "execution_count": 38,
   "metadata": {},
   "outputs": [],
   "source": [
    "import pickle\n",
    "filename = 'model.pkl'\n",
    "pickle.dump(model1, open(filename, 'wb'))"
   ]
  },
  {
   "cell_type": "code",
   "execution_count": null,
   "metadata": {},
   "outputs": [],
   "source": []
  }
 ],
 "metadata": {
  "kernelspec": {
   "name": "python385jvsc74a57bd0f5bd28ee32a81f75b587c4a5c9ba5abfdf032b3105de37173de2ab9e920c5085",
   "display_name": "Python 3.8.5 64-bit"
  },
  "language_info": {
   "codemirror_mode": {
    "name": "ipython",
    "version": 3
   },
   "file_extension": ".py",
   "mimetype": "text/x-python",
   "name": "python",
   "nbconvert_exporter": "python",
   "pygments_lexer": "ipython3",
   "version": "3.8.5-final"
  }
 },
 "nbformat": 4,
 "nbformat_minor": 4
}